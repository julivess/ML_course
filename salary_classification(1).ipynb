{
 "cells": [
  {
   "cell_type": "markdown",
   "id": "f63d0b77",
   "metadata": {},
   "source": [
    "# Уровень заработной платы"
   ]
  },
  {
   "cell_type": "markdown",
   "id": "ebac0b38",
   "metadata": {},
   "source": [
    "#### **Информация о данных**\n",
    "\n",
    "Используемый набор данных является выборкой из базы данных переписи населения 1994 года, сделанной Барри Беккером. Датасет содержит следующие признаки:\n",
    "\n",
    "1. **Возраст** (`age`): отражает возраст респондента (от 17 до 90 лет).\n",
    "2. **Рабочий класс** (`workclass`): отражает статус занятости респондента.\n",
    "3. **Оценка уникальности** (`fnlwgt`): отражает примерную оценку количества людей, которое представляет каждая строка данных.\n",
    "4. **Образование** (`education`): отражает уровень образования респондента.\n",
    "5. **Ступень образования** (`education-num`): отражает статус образования от дошкольного до докторантуры (от 1 до 16).\n",
    "6. **Семейное положение** (`marital-status`): отражает семейное положение респондента.\n",
    "7. **Сфера занятости** (`occupation`): отражает сферу занятости респондента.\n",
    "8. **Семейная роль** (`relationship`): отражает роль в семье респондента.\n",
    "9. **Раса** (`race`): отражает расовую принадлежность респондента.\n",
    "10. **Пол** (`sex`): отражает пол респондента (мужчина, женщина).\n",
    "11. **Прирост капитала** (`capital-gain`): отражает увеличение капитала у респондента.\n",
    "12. **Потеря капитала** (`capital-loss`): отражает уменьшение капитала у респондента.\n",
    "13. **Трудоспособность** (`hours-per-week`): отражает количество отработанных часов за неделю (от 1 до 99).\n",
    "14. **Страна рождения** (`native-country`): отражает страну, в которой родился респондент.\n",
    "15. **Зарплата** (`salary`): отражает уровень заработной платы респондента (<=50K, >50K).\n",
    "\n",
    "#### **Описание задачи**\n",
    "\n",
    "*Задача заключается в прогнозировании уровеня заработной платы.*\n",
    "\n",
    "В данной работе требуется проанализировать исходные данные, выяснить какие признаки оказывают наиболее сильное влияние на уровень заработной платы, применить различные алгоритмы классификации, которые смогут предсказывать уровень заработной платы по входным в данным.\n",
    "\n",
    "> Источник данных: https://www.kaggle.com/datasets/ayessa/salary-prediction-classification\n"
   ]
  },
  {
   "cell_type": "code",
   "execution_count": 1,
   "id": "0b5e8fa8",
   "metadata": {},
   "outputs": [],
   "source": [
    "import numpy as np\n",
    "import pandas as pd\n",
    "import matplotlib.pyplot as plt\n",
    "import seaborn as sb"
   ]
  },
  {
   "cell_type": "code",
   "execution_count": 3,
   "id": "b7d18ebb",
   "metadata": {},
   "outputs": [
    {
     "data": {
      "text/html": [
       "<div>\n",
       "<style scoped>\n",
       "    .dataframe tbody tr th:only-of-type {\n",
       "        vertical-align: middle;\n",
       "    }\n",
       "\n",
       "    .dataframe tbody tr th {\n",
       "        vertical-align: top;\n",
       "    }\n",
       "\n",
       "    .dataframe thead th {\n",
       "        text-align: right;\n",
       "    }\n",
       "</style>\n",
       "<table border=\"1\" class=\"dataframe\">\n",
       "  <thead>\n",
       "    <tr style=\"text-align: right;\">\n",
       "      <th></th>\n",
       "      <th>age</th>\n",
       "      <th>workclass</th>\n",
       "      <th>fnlwgt</th>\n",
       "      <th>education</th>\n",
       "      <th>education-num</th>\n",
       "      <th>marital-status</th>\n",
       "      <th>occupation</th>\n",
       "      <th>relationship</th>\n",
       "      <th>race</th>\n",
       "      <th>sex</th>\n",
       "      <th>capital-gain</th>\n",
       "      <th>capital-loss</th>\n",
       "      <th>hours-per-week</th>\n",
       "      <th>native-country</th>\n",
       "      <th>salary</th>\n",
       "    </tr>\n",
       "  </thead>\n",
       "  <tbody>\n",
       "    <tr>\n",
       "      <th>0</th>\n",
       "      <td>39</td>\n",
       "      <td>State-gov</td>\n",
       "      <td>77516</td>\n",
       "      <td>Bachelors</td>\n",
       "      <td>13</td>\n",
       "      <td>Never-married</td>\n",
       "      <td>Adm-clerical</td>\n",
       "      <td>Not-in-family</td>\n",
       "      <td>White</td>\n",
       "      <td>Male</td>\n",
       "      <td>2174</td>\n",
       "      <td>0</td>\n",
       "      <td>40</td>\n",
       "      <td>United-States</td>\n",
       "      <td>&lt;=50K</td>\n",
       "    </tr>\n",
       "    <tr>\n",
       "      <th>1</th>\n",
       "      <td>50</td>\n",
       "      <td>Self-emp-not-inc</td>\n",
       "      <td>83311</td>\n",
       "      <td>Bachelors</td>\n",
       "      <td>13</td>\n",
       "      <td>Married-civ-spouse</td>\n",
       "      <td>Exec-managerial</td>\n",
       "      <td>Husband</td>\n",
       "      <td>White</td>\n",
       "      <td>Male</td>\n",
       "      <td>0</td>\n",
       "      <td>0</td>\n",
       "      <td>13</td>\n",
       "      <td>United-States</td>\n",
       "      <td>&lt;=50K</td>\n",
       "    </tr>\n",
       "    <tr>\n",
       "      <th>2</th>\n",
       "      <td>38</td>\n",
       "      <td>Private</td>\n",
       "      <td>215646</td>\n",
       "      <td>HS-grad</td>\n",
       "      <td>9</td>\n",
       "      <td>Divorced</td>\n",
       "      <td>Handlers-cleaners</td>\n",
       "      <td>Not-in-family</td>\n",
       "      <td>White</td>\n",
       "      <td>Male</td>\n",
       "      <td>0</td>\n",
       "      <td>0</td>\n",
       "      <td>40</td>\n",
       "      <td>United-States</td>\n",
       "      <td>&lt;=50K</td>\n",
       "    </tr>\n",
       "    <tr>\n",
       "      <th>3</th>\n",
       "      <td>53</td>\n",
       "      <td>Private</td>\n",
       "      <td>234721</td>\n",
       "      <td>11th</td>\n",
       "      <td>7</td>\n",
       "      <td>Married-civ-spouse</td>\n",
       "      <td>Handlers-cleaners</td>\n",
       "      <td>Husband</td>\n",
       "      <td>Black</td>\n",
       "      <td>Male</td>\n",
       "      <td>0</td>\n",
       "      <td>0</td>\n",
       "      <td>40</td>\n",
       "      <td>United-States</td>\n",
       "      <td>&lt;=50K</td>\n",
       "    </tr>\n",
       "    <tr>\n",
       "      <th>4</th>\n",
       "      <td>28</td>\n",
       "      <td>Private</td>\n",
       "      <td>338409</td>\n",
       "      <td>Bachelors</td>\n",
       "      <td>13</td>\n",
       "      <td>Married-civ-spouse</td>\n",
       "      <td>Prof-specialty</td>\n",
       "      <td>Wife</td>\n",
       "      <td>Black</td>\n",
       "      <td>Female</td>\n",
       "      <td>0</td>\n",
       "      <td>0</td>\n",
       "      <td>40</td>\n",
       "      <td>Cuba</td>\n",
       "      <td>&lt;=50K</td>\n",
       "    </tr>\n",
       "    <tr>\n",
       "      <th>5</th>\n",
       "      <td>37</td>\n",
       "      <td>Private</td>\n",
       "      <td>284582</td>\n",
       "      <td>Masters</td>\n",
       "      <td>14</td>\n",
       "      <td>Married-civ-spouse</td>\n",
       "      <td>Exec-managerial</td>\n",
       "      <td>Wife</td>\n",
       "      <td>White</td>\n",
       "      <td>Female</td>\n",
       "      <td>0</td>\n",
       "      <td>0</td>\n",
       "      <td>40</td>\n",
       "      <td>United-States</td>\n",
       "      <td>&lt;=50K</td>\n",
       "    </tr>\n",
       "    <tr>\n",
       "      <th>6</th>\n",
       "      <td>49</td>\n",
       "      <td>Private</td>\n",
       "      <td>160187</td>\n",
       "      <td>9th</td>\n",
       "      <td>5</td>\n",
       "      <td>Married-spouse-absent</td>\n",
       "      <td>Other-service</td>\n",
       "      <td>Not-in-family</td>\n",
       "      <td>Black</td>\n",
       "      <td>Female</td>\n",
       "      <td>0</td>\n",
       "      <td>0</td>\n",
       "      <td>16</td>\n",
       "      <td>Jamaica</td>\n",
       "      <td>&lt;=50K</td>\n",
       "    </tr>\n",
       "    <tr>\n",
       "      <th>7</th>\n",
       "      <td>52</td>\n",
       "      <td>Self-emp-not-inc</td>\n",
       "      <td>209642</td>\n",
       "      <td>HS-grad</td>\n",
       "      <td>9</td>\n",
       "      <td>Married-civ-spouse</td>\n",
       "      <td>Exec-managerial</td>\n",
       "      <td>Husband</td>\n",
       "      <td>White</td>\n",
       "      <td>Male</td>\n",
       "      <td>0</td>\n",
       "      <td>0</td>\n",
       "      <td>45</td>\n",
       "      <td>United-States</td>\n",
       "      <td>&gt;50K</td>\n",
       "    </tr>\n",
       "    <tr>\n",
       "      <th>8</th>\n",
       "      <td>31</td>\n",
       "      <td>Private</td>\n",
       "      <td>45781</td>\n",
       "      <td>Masters</td>\n",
       "      <td>14</td>\n",
       "      <td>Never-married</td>\n",
       "      <td>Prof-specialty</td>\n",
       "      <td>Not-in-family</td>\n",
       "      <td>White</td>\n",
       "      <td>Female</td>\n",
       "      <td>14084</td>\n",
       "      <td>0</td>\n",
       "      <td>50</td>\n",
       "      <td>United-States</td>\n",
       "      <td>&gt;50K</td>\n",
       "    </tr>\n",
       "    <tr>\n",
       "      <th>9</th>\n",
       "      <td>42</td>\n",
       "      <td>Private</td>\n",
       "      <td>159449</td>\n",
       "      <td>Bachelors</td>\n",
       "      <td>13</td>\n",
       "      <td>Married-civ-spouse</td>\n",
       "      <td>Exec-managerial</td>\n",
       "      <td>Husband</td>\n",
       "      <td>White</td>\n",
       "      <td>Male</td>\n",
       "      <td>5178</td>\n",
       "      <td>0</td>\n",
       "      <td>40</td>\n",
       "      <td>United-States</td>\n",
       "      <td>&gt;50K</td>\n",
       "    </tr>\n",
       "  </tbody>\n",
       "</table>\n",
       "</div>"
      ],
      "text/plain": [
       "   age          workclass  fnlwgt   education  education-num  \\\n",
       "0   39          State-gov   77516   Bachelors             13   \n",
       "1   50   Self-emp-not-inc   83311   Bachelors             13   \n",
       "2   38            Private  215646     HS-grad              9   \n",
       "3   53            Private  234721        11th              7   \n",
       "4   28            Private  338409   Bachelors             13   \n",
       "5   37            Private  284582     Masters             14   \n",
       "6   49            Private  160187         9th              5   \n",
       "7   52   Self-emp-not-inc  209642     HS-grad              9   \n",
       "8   31            Private   45781     Masters             14   \n",
       "9   42            Private  159449   Bachelors             13   \n",
       "\n",
       "           marital-status          occupation    relationship    race  \\\n",
       "0           Never-married        Adm-clerical   Not-in-family   White   \n",
       "1      Married-civ-spouse     Exec-managerial         Husband   White   \n",
       "2                Divorced   Handlers-cleaners   Not-in-family   White   \n",
       "3      Married-civ-spouse   Handlers-cleaners         Husband   Black   \n",
       "4      Married-civ-spouse      Prof-specialty            Wife   Black   \n",
       "5      Married-civ-spouse     Exec-managerial            Wife   White   \n",
       "6   Married-spouse-absent       Other-service   Not-in-family   Black   \n",
       "7      Married-civ-spouse     Exec-managerial         Husband   White   \n",
       "8           Never-married      Prof-specialty   Not-in-family   White   \n",
       "9      Married-civ-spouse     Exec-managerial         Husband   White   \n",
       "\n",
       "       sex  capital-gain  capital-loss  hours-per-week  native-country  salary  \n",
       "0     Male          2174             0              40   United-States   <=50K  \n",
       "1     Male             0             0              13   United-States   <=50K  \n",
       "2     Male             0             0              40   United-States   <=50K  \n",
       "3     Male             0             0              40   United-States   <=50K  \n",
       "4   Female             0             0              40            Cuba   <=50K  \n",
       "5   Female             0             0              40   United-States   <=50K  \n",
       "6   Female             0             0              16         Jamaica   <=50K  \n",
       "7     Male             0             0              45   United-States    >50K  \n",
       "8   Female         14084             0              50   United-States    >50K  \n",
       "9     Male          5178             0              40   United-States    >50K  "
      ]
     },
     "execution_count": 3,
     "metadata": {},
     "output_type": "execute_result"
    }
   ],
   "source": [
    "url = r\"C:\\Users\\79960\\МашинноеОбучение_ннгу_2023\\ML_course\\salary.csv\"\n",
    "data_raw = pd.read_csv(url)\n",
    "data_raw.head(10)"
   ]
  },
  {
   "cell_type": "code",
   "execution_count": 4,
   "id": "4b5d7131",
   "metadata": {},
   "outputs": [
    {
     "name": "stdout",
     "output_type": "stream",
     "text": [
      "<class 'pandas.core.frame.DataFrame'>\n",
      "RangeIndex: 32561 entries, 0 to 32560\n",
      "Data columns (total 15 columns):\n",
      " #   Column          Non-Null Count  Dtype \n",
      "---  ------          --------------  ----- \n",
      " 0   age             32561 non-null  int64 \n",
      " 1   workclass       32561 non-null  object\n",
      " 2   fnlwgt          32561 non-null  int64 \n",
      " 3   education       32561 non-null  object\n",
      " 4   education-num   32561 non-null  int64 \n",
      " 5   marital-status  32561 non-null  object\n",
      " 6   occupation      32561 non-null  object\n",
      " 7   relationship    32561 non-null  object\n",
      " 8   race            32561 non-null  object\n",
      " 9   sex             32561 non-null  object\n",
      " 10  capital-gain    32561 non-null  int64 \n",
      " 11  capital-loss    32561 non-null  int64 \n",
      " 12  hours-per-week  32561 non-null  int64 \n",
      " 13  native-country  32561 non-null  object\n",
      " 14  salary          32561 non-null  object\n",
      "dtypes: int64(6), object(9)\n",
      "memory usage: 3.7+ MB\n"
     ]
    }
   ],
   "source": [
    "dr = data_raw.copy()\n",
    "dr.info()"
   ]
  },
  {
   "cell_type": "code",
   "execution_count": 5,
   "id": "c1f5e813",
   "metadata": {},
   "outputs": [
    {
     "data": {
      "text/plain": [
       "age               0\n",
       "workclass         0\n",
       "fnlwgt            0\n",
       "education         0\n",
       "education-num     0\n",
       "marital-status    0\n",
       "occupation        0\n",
       "relationship      0\n",
       "race              0\n",
       "sex               0\n",
       "capital-gain      0\n",
       "capital-loss      0\n",
       "hours-per-week    0\n",
       "native-country    0\n",
       "salary            0\n",
       "dtype: int64"
      ]
     },
     "execution_count": 5,
     "metadata": {},
     "output_type": "execute_result"
    }
   ],
   "source": [
    "dr.isnull().sum()"
   ]
  },
  {
   "cell_type": "markdown",
   "id": "d7b3db3f",
   "metadata": {},
   "source": [
    "*В таблице отсутствуют пропущенные данные числовых признаков!*"
   ]
  },
  {
   "cell_type": "code",
   "execution_count": 6,
   "id": "31986f15",
   "metadata": {},
   "outputs": [
    {
     "data": {
      "text/plain": [
       "(32561, 15)"
      ]
     },
     "execution_count": 6,
     "metadata": {},
     "output_type": "execute_result"
    }
   ],
   "source": [
    "dr.shape"
   ]
  },
  {
   "cell_type": "markdown",
   "id": "8d7f8200",
   "metadata": {},
   "source": [
    "Для анализа имеем **32561 объекта** и **15 признаков**. Посмотрим на *числовые* и *категориальные* признаки по отдельности."
   ]
  },
  {
   "cell_type": "markdown",
   "id": "05a8d85a",
   "metadata": {},
   "source": [
    "### **2.1. Числовые признаки**"
   ]
  },
  {
   "cell_type": "code",
   "execution_count": 7,
   "id": "dc313cde",
   "metadata": {},
   "outputs": [
    {
     "data": {
      "text/plain": [
       "['age',\n",
       " 'fnlwgt',\n",
       " 'education-num',\n",
       " 'capital-gain',\n",
       " 'capital-loss',\n",
       " 'hours-per-week']"
      ]
     },
     "execution_count": 7,
     "metadata": {},
     "output_type": "execute_result"
    }
   ],
   "source": [
    "numeric_parameters = [column for column in dr.columns if dr[column].dtype.name != 'object']\n",
    "numeric_parameters"
   ]
  },
  {
   "cell_type": "code",
   "execution_count": 8,
   "id": "cc399356",
   "metadata": {},
   "outputs": [],
   "source": [
    "data = dr[numeric_parameters]"
   ]
  },
  {
   "cell_type": "markdown",
   "id": "bc771249",
   "metadata": {},
   "source": [
    "Имеем **6** числовых признаков. Посмотрим их основные характеристики"
   ]
  },
  {
   "cell_type": "code",
   "execution_count": 9,
   "id": "468306fc",
   "metadata": {},
   "outputs": [
    {
     "data": {
      "text/html": [
       "<div>\n",
       "<style scoped>\n",
       "    .dataframe tbody tr th:only-of-type {\n",
       "        vertical-align: middle;\n",
       "    }\n",
       "\n",
       "    .dataframe tbody tr th {\n",
       "        vertical-align: top;\n",
       "    }\n",
       "\n",
       "    .dataframe thead th {\n",
       "        text-align: right;\n",
       "    }\n",
       "</style>\n",
       "<table border=\"1\" class=\"dataframe\">\n",
       "  <thead>\n",
       "    <tr style=\"text-align: right;\">\n",
       "      <th></th>\n",
       "      <th>age</th>\n",
       "      <th>fnlwgt</th>\n",
       "      <th>education-num</th>\n",
       "      <th>capital-gain</th>\n",
       "      <th>capital-loss</th>\n",
       "      <th>hours-per-week</th>\n",
       "    </tr>\n",
       "  </thead>\n",
       "  <tbody>\n",
       "    <tr>\n",
       "      <th>count</th>\n",
       "      <td>32561.000000</td>\n",
       "      <td>3.256100e+04</td>\n",
       "      <td>32561.000000</td>\n",
       "      <td>32561.000000</td>\n",
       "      <td>32561.000000</td>\n",
       "      <td>32561.000000</td>\n",
       "    </tr>\n",
       "    <tr>\n",
       "      <th>mean</th>\n",
       "      <td>38.581647</td>\n",
       "      <td>1.897784e+05</td>\n",
       "      <td>10.080679</td>\n",
       "      <td>1077.648844</td>\n",
       "      <td>87.303830</td>\n",
       "      <td>40.437456</td>\n",
       "    </tr>\n",
       "    <tr>\n",
       "      <th>std</th>\n",
       "      <td>13.640433</td>\n",
       "      <td>1.055500e+05</td>\n",
       "      <td>2.572720</td>\n",
       "      <td>7385.292085</td>\n",
       "      <td>402.960219</td>\n",
       "      <td>12.347429</td>\n",
       "    </tr>\n",
       "    <tr>\n",
       "      <th>min</th>\n",
       "      <td>17.000000</td>\n",
       "      <td>1.228500e+04</td>\n",
       "      <td>1.000000</td>\n",
       "      <td>0.000000</td>\n",
       "      <td>0.000000</td>\n",
       "      <td>1.000000</td>\n",
       "    </tr>\n",
       "    <tr>\n",
       "      <th>25%</th>\n",
       "      <td>28.000000</td>\n",
       "      <td>1.178270e+05</td>\n",
       "      <td>9.000000</td>\n",
       "      <td>0.000000</td>\n",
       "      <td>0.000000</td>\n",
       "      <td>40.000000</td>\n",
       "    </tr>\n",
       "    <tr>\n",
       "      <th>50%</th>\n",
       "      <td>37.000000</td>\n",
       "      <td>1.783560e+05</td>\n",
       "      <td>10.000000</td>\n",
       "      <td>0.000000</td>\n",
       "      <td>0.000000</td>\n",
       "      <td>40.000000</td>\n",
       "    </tr>\n",
       "    <tr>\n",
       "      <th>75%</th>\n",
       "      <td>48.000000</td>\n",
       "      <td>2.370510e+05</td>\n",
       "      <td>12.000000</td>\n",
       "      <td>0.000000</td>\n",
       "      <td>0.000000</td>\n",
       "      <td>45.000000</td>\n",
       "    </tr>\n",
       "    <tr>\n",
       "      <th>max</th>\n",
       "      <td>90.000000</td>\n",
       "      <td>1.484705e+06</td>\n",
       "      <td>16.000000</td>\n",
       "      <td>99999.000000</td>\n",
       "      <td>4356.000000</td>\n",
       "      <td>99.000000</td>\n",
       "    </tr>\n",
       "  </tbody>\n",
       "</table>\n",
       "</div>"
      ],
      "text/plain": [
       "                age        fnlwgt  education-num  capital-gain  capital-loss  \\\n",
       "count  32561.000000  3.256100e+04   32561.000000  32561.000000  32561.000000   \n",
       "mean      38.581647  1.897784e+05      10.080679   1077.648844     87.303830   \n",
       "std       13.640433  1.055500e+05       2.572720   7385.292085    402.960219   \n",
       "min       17.000000  1.228500e+04       1.000000      0.000000      0.000000   \n",
       "25%       28.000000  1.178270e+05       9.000000      0.000000      0.000000   \n",
       "50%       37.000000  1.783560e+05      10.000000      0.000000      0.000000   \n",
       "75%       48.000000  2.370510e+05      12.000000      0.000000      0.000000   \n",
       "max       90.000000  1.484705e+06      16.000000  99999.000000   4356.000000   \n",
       "\n",
       "       hours-per-week  \n",
       "count    32561.000000  \n",
       "mean        40.437456  \n",
       "std         12.347429  \n",
       "min          1.000000  \n",
       "25%         40.000000  \n",
       "50%         40.000000  \n",
       "75%         45.000000  \n",
       "max         99.000000  "
      ]
     },
     "execution_count": 9,
     "metadata": {},
     "output_type": "execute_result"
    }
   ],
   "source": [
    "dr.describe()"
   ]
  },
  {
   "cell_type": "markdown",
   "id": "705e0d23",
   "metadata": {},
   "source": [
    "В таблице представлены основые статистические характеристики:\n",
    "\n",
    "* Количество (`count`)\n",
    "* Медиана (`mean`)\n",
    "* Среднеквадратическое отклонение (`std`)\n",
    "* Минимум (`min`)\n",
    "* Квантиль 25%\n",
    "* Квантиль 50% \n",
    "* Квантиль 75% \n",
    "* Максимум (`max`)\n",
    "\n",
    "На данном этапе можно заметить странное распределение в признаках *capital-gain* и *capital-loss*. Скорее всего это связано с тем, что данные признаки равняются нулю для большиства опрошенных. Все остальные характеристики выглядят достаточно правдоподобно.\n"
   ]
  },
  {
   "cell_type": "markdown",
   "id": "c4bb79b7",
   "metadata": {},
   "source": [
    "### **2.2. Категориальные признаки**"
   ]
  },
  {
   "cell_type": "markdown",
   "id": "77c874cf",
   "metadata": {},
   "source": [
    "Выделим среди всех признаков — категориальные"
   ]
  },
  {
   "cell_type": "code",
   "execution_count": 10,
   "id": "f08cef9d",
   "metadata": {},
   "outputs": [
    {
     "data": {
      "text/plain": [
       "['workclass',\n",
       " 'education',\n",
       " 'marital-status',\n",
       " 'occupation',\n",
       " 'relationship',\n",
       " 'race',\n",
       " 'sex',\n",
       " 'native-country',\n",
       " 'salary']"
      ]
     },
     "execution_count": 10,
     "metadata": {},
     "output_type": "execute_result"
    }
   ],
   "source": [
    "category_parameters = [column for column in dr.columns if dr[column].dtype.name == 'object']\n",
    "category_parameters"
   ]
  },
  {
   "cell_type": "markdown",
   "id": "3bbc2523",
   "metadata": {},
   "source": [
    "Имеем **9** категориальных признаков. Рассмотрим распределение каждого из данных признаков."
   ]
  },
  {
   "cell_type": "code",
   "execution_count": null,
   "id": "1d72bf23",
   "metadata": {},
   "outputs": [],
   "source": [
    "for col in [column for column in dr.columns if dr[column].dtype.name == 'object']:\n",
    "    print(f\"{col} DISTRIBUTION\")\n",
    "    print(dr[col].value_counts())\n",
    "    print()"
   ]
  },
  {
   "cell_type": "markdown",
   "id": "333a75b6",
   "metadata": {},
   "source": [
    "Просматривая полученные значения, можно заметить, что среди категориальных признаков **workclass**, **occupation**, **native-country** имеются пропущенные данные, которые обозначаются **' ?'**. Произведем замену данных значений на NaN (Not a Number)."
   ]
  },
  {
   "cell_type": "code",
   "execution_count": null,
   "id": "ee45dfb1",
   "metadata": {},
   "outputs": [],
   "source": [
    "dr['workclass'].replace(' ?', np.nan, inplace=True)\n",
    "dr['occupation'].replace(' ?', np.nan, inplace=True)\n",
    "dr['native-country'].replace(' ?', np.nan, inplace=True)"
   ]
  },
  {
   "cell_type": "markdown",
   "id": "94891428",
   "metadata": {},
   "source": [
    "##  **3. Борьба с пропущенными значениями**"
   ]
  },
  {
   "cell_type": "markdown",
   "id": "61cedb76",
   "metadata": {},
   "source": [
    "Из анализа данных, содержащихся в категориальных признаках, обнаружилось, что в датасете присутствуют пропуски, с которыми нужно как-то побороться. Рассмотрим какие признаки имеют пропущенные значения:"
   ]
  },
  {
   "cell_type": "code",
   "execution_count": null,
   "id": "e3cdd8b4",
   "metadata": {},
   "outputs": [],
   "source": [
    "dr.isnull().sum()"
   ]
  },
  {
   "cell_type": "markdown",
   "id": "043c52ef",
   "metadata": {},
   "source": [
    "Существуют различные способы борьбы с пропусками. Самый примитивный — просто удалить те строки, в которых встречаются пропущенные значения. Так как датасет содержит не особо большое количество строк, то удаление пропущенных данных может привести к неточности дальнейшего исследования, поэтому способом заполнения пропусков будет *поиск наиболее популярных значений среди данного признака.* Посмотрим на часть датасета с пропусками:"
   ]
  },
  {
   "cell_type": "code",
   "execution_count": null,
   "id": "4d40f7fa",
   "metadata": {},
   "outputs": [],
   "source": [
    "dr_with_nan = dr[dr['workclass'].isnull()]\n",
    "dr_with_nan.head(10)"
   ]
  },
  {
   "cell_type": "markdown",
   "id": "70abb3ea",
   "metadata": {},
   "source": [
    "В данной выборке можно разглядеть, что везде, где отсутствует признак workclass, также отсутствует и признак occupation. Возможно между ними имеется некая связь. Поэтому найдем наиболее популярное значение признака **workclass** и затем по найденному значению выберем самое популярное среди **occupation**. Значения для признака **native-country**\tзаполним аналогично — наиболее популярным."
   ]
  },
  {
   "cell_type": "markdown",
   "id": "2268ad18",
   "metadata": {},
   "source": [
    "Найдем самое популярное значение среди признака **workclass**"
   ]
  },
  {
   "cell_type": "code",
   "execution_count": null,
   "id": "4dcb146c",
   "metadata": {},
   "outputs": [],
   "source": [
    "dr['workclass'].mode()[0]"
   ]
  },
  {
   "cell_type": "markdown",
   "id": "d699c672",
   "metadata": {},
   "source": [
    "Найдем самое популярное значение среди признака **occupation**, учитывая что *workclass* = *'Private'*"
   ]
  },
  {
   "cell_type": "code",
   "execution_count": null,
   "id": "fc34f60d",
   "metadata": {},
   "outputs": [],
   "source": [
    "dr['occupation'][dr['workclass'] == dr['workclass'].mode()[0]].mode()[0]"
   ]
  },
  {
   "cell_type": "markdown",
   "id": "9a9afb78",
   "metadata": {},
   "source": [
    "Найдем самое популярное значение среди признака **native-country**"
   ]
  },
  {
   "cell_type": "code",
   "execution_count": null,
   "id": "b4d508f4",
   "metadata": {},
   "outputs": [],
   "source": [
    "dr['native-country'].mode()[0]"
   ]
  },
  {
   "cell_type": "markdown",
   "id": "1d50f299",
   "metadata": {},
   "source": [
    "Заменим соответствующие пропуски найденными значениями"
   ]
  },
  {
   "cell_type": "code",
   "execution_count": null,
   "id": "d2b2607a",
   "metadata": {},
   "outputs": [],
   "source": [
    "dr['workclass'].fillna(dr['workclass'].mode()[0], inplace=True)\n",
    "dr['occupation'].fillna(dr['occupation'][dr['workclass'] == dr['workclass'].mode()[0]].mode()[0], inplace=True)\n",
    "dr['native-country'].fillna(dr['native-country'].mode()[0], inplace=True)"
   ]
  },
  {
   "cell_type": "code",
   "execution_count": null,
   "id": "fceda674",
   "metadata": {},
   "outputs": [],
   "source": [
    "dr.isnull().sum()"
   ]
  },
  {
   "cell_type": "markdown",
   "id": "8b707560",
   "metadata": {},
   "source": [
    "Мы успешно поборолись с пропущенными значениями, можно переходить к дальнейшему исследованию."
   ]
  },
  {
   "cell_type": "markdown",
   "id": "9f011847",
   "metadata": {},
   "source": [
    "##  **4. Визуализация данных**"
   ]
  },
  {
   "cell_type": "code",
   "execution_count": null,
   "id": "6a4ae1d8",
   "metadata": {},
   "outputs": [],
   "source": [
    "dr.info()"
   ]
  },
  {
   "cell_type": "markdown",
   "id": "94ab87ed",
   "metadata": {},
   "source": [
    "*Простроим графическое представление матрицы корреляции*"
   ]
  },
  {
   "cell_type": "code",
   "execution_count": null,
   "id": "a154e657",
   "metadata": {},
   "outputs": [],
   "source": [
    "plt.figure(figsize = (8,6))\n",
    "sb.heatmap(data.corr(), annot=True, cmap='Blues')\n",
    "plt.show()"
   ]
  },
  {
   "cell_type": "markdown",
   "id": "d5345bf5",
   "metadata": {},
   "source": [
    "Как результат, признаки практически не коррелируют друг с другом."
   ]
  },
  {
   "cell_type": "code",
   "execution_count": null,
   "id": "c0391ddb",
   "metadata": {},
   "outputs": [],
   "source": [
    "color = [\"#3498db\",\"#34495e\"]\n",
    "sb.set_palette(color)"
   ]
  },
  {
   "cell_type": "markdown",
   "id": "0fb7c175",
   "metadata": {},
   "source": [
    "*Посмотрим на какой возраст приходится наибольший заработок*"
   ]
  },
  {
   "cell_type": "code",
   "execution_count": null,
   "id": "58c226eb",
   "metadata": {},
   "outputs": [],
   "source": [
    "plt.figure(figsize=(12, 8))\n",
    "sb.boxplot(data=dr, y='age', x='salary')\n",
    "plt.show()"
   ]
  },
  {
   "cell_type": "markdown",
   "id": "2bcf9d65",
   "metadata": {},
   "source": [
    "Можно увидеть, что среди опрошенных, у которых зарплата более 50К, преобладают люди в возрасте примерно от 35 до 50. Зарплату менее 50К получают люди примерно от 25 до 45."
   ]
  },
  {
   "cell_type": "markdown",
   "id": "2e760430",
   "metadata": {},
   "source": [
    "*Посмотрим зависимость заработной платы от характеристики, которая обозначает количество людей со схожими признаками*"
   ]
  },
  {
   "cell_type": "code",
   "execution_count": null,
   "id": "8ea6d953",
   "metadata": {},
   "outputs": [],
   "source": [
    "plt.figure(figsize=(12, 8))\n",
    "sb.boxplot(data=dr, y='fnlwgt', x='salary')\n",
    "plt.show()"
   ]
  },
  {
   "cell_type": "code",
   "execution_count": null,
   "id": "38e92dd1",
   "metadata": {},
   "outputs": [],
   "source": [
    "plt.figure(figsize=(12, 8))\n",
    "sb.kdeplot(data=dr, x='fnlwgt', hue='salary')\n",
    "plt.show()"
   ]
  },
  {
   "cell_type": "markdown",
   "id": "ae30b4e7",
   "metadata": {},
   "source": [
    "Трудно разглядеть зависимость зарплаты от данного признака. Попробуем отбросить его при дальнейшей обработке данных."
   ]
  },
  {
   "cell_type": "markdown",
   "id": "6e5092e3",
   "metadata": {},
   "source": [
    "*Посмотрим распределение заработной платы по принадлежности к рабочему классу*"
   ]
  },
  {
   "cell_type": "code",
   "execution_count": null,
   "id": "ea88d138",
   "metadata": {},
   "outputs": [],
   "source": [
    "plt.figure(figsize=(12, 8))\n",
    "sb.countplot(data=dr, x='workclass', hue='salary')\n",
    "plt.show()"
   ]
  },
  {
   "cell_type": "markdown",
   "id": "9dd92769",
   "metadata": {},
   "source": [
    "Среди людей рабочего класса можем наблюдать наибольшее количество людей, которые получают зарплату более 50К, кроме того данный класс преобладает и среди тех, кто пролучает зарплату менее 50К. "
   ]
  },
  {
   "cell_type": "markdown",
   "id": "966eb624",
   "metadata": {},
   "source": [
    "*Посмотрим распределение заработной платы среди уровня образования*"
   ]
  },
  {
   "cell_type": "code",
   "execution_count": null,
   "id": "f08f4666",
   "metadata": {},
   "outputs": [],
   "source": [
    "plt.figure(figsize=(12, 8))\n",
    "sb.countplot(data=dr, y='education', hue='salary')\n",
    "plt.show()"
   ]
  },
  {
   "cell_type": "markdown",
   "id": "8afc07e2",
   "metadata": {},
   "source": [
    "Очевидно, что уровень образования играет ключевую роль в формировании заработной платы. По графику видно, что большинство тех, кто получает более 50К имеют образование начиная от высшей школы или колледжа и заканчивая магистратурой."
   ]
  },
  {
   "cell_type": "markdown",
   "id": "4e005992",
   "metadata": {},
   "source": [
    "*Посмотрим зависимость заработной платы от семейного положения*"
   ]
  },
  {
   "cell_type": "code",
   "execution_count": null,
   "id": "04c9d1a3",
   "metadata": {},
   "outputs": [],
   "source": [
    "plt.figure(figsize=(12, 8))\n",
    "sb.countplot(data=dr, x='marital-status', hue='salary')\n",
    "plt.show()"
   ]
  },
  {
   "cell_type": "code",
   "execution_count": null,
   "id": "31e1d829",
   "metadata": {},
   "outputs": [],
   "source": [
    "plt.figure(figsize=(12, 8))\n",
    "sb.countplot(data=dr, x='relationship', hue='salary')\n",
    "plt.show()"
   ]
  },
  {
   "cell_type": "markdown",
   "id": "9de1e783",
   "metadata": {},
   "source": [
    "*Посмотрим зависимость заработной платы от расы*"
   ]
  },
  {
   "cell_type": "code",
   "execution_count": null,
   "id": "860214b8",
   "metadata": {},
   "outputs": [],
   "source": [
    "plt.figure(figsize=(12, 8))\n",
    "sb.countplot(data=dr, x='race', hue='salary')\n",
    "plt.show()"
   ]
  },
  {
   "cell_type": "markdown",
   "id": "9b261ee0",
   "metadata": {},
   "source": [
    "*Посмотрим зависимость заработной платы от пола*"
   ]
  },
  {
   "cell_type": "code",
   "execution_count": null,
   "id": "916b942c",
   "metadata": {},
   "outputs": [],
   "source": [
    "plt.figure(figsize=(12, 8))\n",
    "\n",
    "sb.countplot(data=dr, x='sex', hue='salary')\n",
    "plt.show()"
   ]
  },
  {
   "cell_type": "markdown",
   "id": "60d68fc7",
   "metadata": {},
   "source": [
    "Высокий заработок преобладает среди мужчин."
   ]
  },
  {
   "cell_type": "code",
   "execution_count": null,
   "id": "662c22ab",
   "metadata": {},
   "outputs": [],
   "source": [
    "plt.figure(figsize=(12, 8))\n",
    "sb.kdeplot(data=dr, x='capital-gain', hue='salary')\n",
    "plt.show()"
   ]
  },
  {
   "cell_type": "code",
   "execution_count": null,
   "id": "61310bb3",
   "metadata": {},
   "outputs": [],
   "source": [
    "plt.figure(figsize=(12, 8))\n",
    "sb.kdeplot(data=dr, x='capital-loss', hue='salary')\n",
    "plt.show()"
   ]
  },
  {
   "cell_type": "markdown",
   "id": "3b408c85",
   "metadata": {},
   "source": [
    "По графикам можно увидеть, что данные характеристики не оказывают никакого влияния на уровень заработной платы, скорее всего потому что для большинства объектов являются нулём, и не смогут быть полезны при обучении модели. В дальнейшем мы удалим эти признаки."
   ]
  },
  {
   "cell_type": "markdown",
   "id": "7b38b105",
   "metadata": {},
   "source": [
    "*Посмотрим зависимость заработной платы от количества отработанных часов в неделю*"
   ]
  },
  {
   "cell_type": "code",
   "execution_count": null,
   "id": "085bf3d7",
   "metadata": {},
   "outputs": [],
   "source": [
    "plt.figure(figsize=(12, 8))\n",
    "sb.boxplot(data=dr, x='salary', y='hours-per-week')\n",
    "plt.show()"
   ]
  },
  {
   "cell_type": "markdown",
   "id": "0ae2c219",
   "metadata": {},
   "source": [
    "По графикам видно, что работники, которые трудятся более 40 часов в неделю получают зарплату выше, чем те, которые работают менее 40 часов."
   ]
  },
  {
   "cell_type": "markdown",
   "id": "7f5284d3",
   "metadata": {},
   "source": [
    "##  **5. Обработка данных**"
   ]
  },
  {
   "cell_type": "markdown",
   "id": "f532cf7a",
   "metadata": {},
   "source": [
    "#### **5.1. Обработка числовых признаков**"
   ]
  }
 ],
 "metadata": {
  "kernelspec": {
   "display_name": "Python 3 (ipykernel)",
   "language": "python",
   "name": "python3"
  },
  "language_info": {
   "codemirror_mode": {
    "name": "ipython",
    "version": 3
   },
   "file_extension": ".py",
   "mimetype": "text/x-python",
   "name": "python",
   "nbconvert_exporter": "python",
   "pygments_lexer": "ipython3",
   "version": "3.9.18"
  }
 },
 "nbformat": 4,
 "nbformat_minor": 5
}
